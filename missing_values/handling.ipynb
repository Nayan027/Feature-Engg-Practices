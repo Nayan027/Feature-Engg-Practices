{
 "cells": [
  {
   "cell_type": "code",
   "execution_count": 1,
   "id": "4668ed86",
   "metadata": {},
   "outputs": [
    {
     "data": {
      "text/html": [
       "<div>\n",
       "<style scoped>\n",
       "    .dataframe tbody tr th:only-of-type {\n",
       "        vertical-align: middle;\n",
       "    }\n",
       "\n",
       "    .dataframe tbody tr th {\n",
       "        vertical-align: top;\n",
       "    }\n",
       "\n",
       "    .dataframe thead th {\n",
       "        text-align: right;\n",
       "    }\n",
       "</style>\n",
       "<table border=\"1\" class=\"dataframe\">\n",
       "  <thead>\n",
       "    <tr style=\"text-align: right;\">\n",
       "      <th></th>\n",
       "      <th>student_id</th>\n",
       "      <th>age</th>\n",
       "      <th>gender</th>\n",
       "      <th>socioeconomic_status</th>\n",
       "      <th>region</th>\n",
       "      <th>total_logins</th>\n",
       "      <th>weekly_login_count</th>\n",
       "      <th>avg_session_duration</th>\n",
       "      <th>resource_click_count</th>\n",
       "      <th>forum_posts</th>\n",
       "      <th>...</th>\n",
       "      <th>tab_switch_count</th>\n",
       "      <th>total_classes</th>\n",
       "      <th>classes_attended</th>\n",
       "      <th>assignment_score_avg</th>\n",
       "      <th>quiz_score_avg</th>\n",
       "      <th>midterm_exam_score</th>\n",
       "      <th>final_exam_score</th>\n",
       "      <th>attendance_percentage</th>\n",
       "      <th>overall_performance_score</th>\n",
       "      <th>performance_label</th>\n",
       "    </tr>\n",
       "  </thead>\n",
       "  <tbody>\n",
       "    <tr>\n",
       "      <th>0</th>\n",
       "      <td>S1861</td>\n",
       "      <td>19</td>\n",
       "      <td>Male</td>\n",
       "      <td>High</td>\n",
       "      <td>West</td>\n",
       "      <td>59</td>\n",
       "      <td>6</td>\n",
       "      <td>66.079121</td>\n",
       "      <td>22.0</td>\n",
       "      <td>2</td>\n",
       "      <td>...</td>\n",
       "      <td>12</td>\n",
       "      <td>60</td>\n",
       "      <td>55</td>\n",
       "      <td>88.9</td>\n",
       "      <td>100.0</td>\n",
       "      <td>93.2</td>\n",
       "      <td>91.9</td>\n",
       "      <td>91.67</td>\n",
       "      <td>93.31</td>\n",
       "      <td>High</td>\n",
       "    </tr>\n",
       "    <tr>\n",
       "      <th>1</th>\n",
       "      <td>S0354</td>\n",
       "      <td>24</td>\n",
       "      <td>Female</td>\n",
       "      <td>Medium</td>\n",
       "      <td>South</td>\n",
       "      <td>19</td>\n",
       "      <td>9</td>\n",
       "      <td>52.658783</td>\n",
       "      <td>50.0</td>\n",
       "      <td>2</td>\n",
       "      <td>...</td>\n",
       "      <td>2</td>\n",
       "      <td>60</td>\n",
       "      <td>41</td>\n",
       "      <td>50.4</td>\n",
       "      <td>36.6</td>\n",
       "      <td>57.3</td>\n",
       "      <td>39.5</td>\n",
       "      <td>68.33</td>\n",
       "      <td>46.44</td>\n",
       "      <td>Low</td>\n",
       "    </tr>\n",
       "    <tr>\n",
       "      <th>2</th>\n",
       "      <td>S1334</td>\n",
       "      <td>23</td>\n",
       "      <td>Male</td>\n",
       "      <td>Medium</td>\n",
       "      <td>North</td>\n",
       "      <td>44</td>\n",
       "      <td>2</td>\n",
       "      <td>45.854387</td>\n",
       "      <td>10.0</td>\n",
       "      <td>2</td>\n",
       "      <td>...</td>\n",
       "      <td>4</td>\n",
       "      <td>60</td>\n",
       "      <td>48</td>\n",
       "      <td>77.6</td>\n",
       "      <td>74.2</td>\n",
       "      <td>66.8</td>\n",
       "      <td>71.5</td>\n",
       "      <td>80.00</td>\n",
       "      <td>71.85</td>\n",
       "      <td>High</td>\n",
       "    </tr>\n",
       "    <tr>\n",
       "      <th>3</th>\n",
       "      <td>S0906</td>\n",
       "      <td>23</td>\n",
       "      <td>Female</td>\n",
       "      <td>Medium</td>\n",
       "      <td>East</td>\n",
       "      <td>43</td>\n",
       "      <td>4</td>\n",
       "      <td>48.918866</td>\n",
       "      <td>76.0</td>\n",
       "      <td>0</td>\n",
       "      <td>...</td>\n",
       "      <td>4</td>\n",
       "      <td>60</td>\n",
       "      <td>52</td>\n",
       "      <td>76.8</td>\n",
       "      <td>63.7</td>\n",
       "      <td>74.7</td>\n",
       "      <td>70.0</td>\n",
       "      <td>86.67</td>\n",
       "      <td>71.51</td>\n",
       "      <td>Medium</td>\n",
       "    </tr>\n",
       "    <tr>\n",
       "      <th>4</th>\n",
       "      <td>S1290</td>\n",
       "      <td>17</td>\n",
       "      <td>Male</td>\n",
       "      <td>High</td>\n",
       "      <td>North</td>\n",
       "      <td>28</td>\n",
       "      <td>2</td>\n",
       "      <td>59.170770</td>\n",
       "      <td>31.0</td>\n",
       "      <td>3</td>\n",
       "      <td>...</td>\n",
       "      <td>4</td>\n",
       "      <td>60</td>\n",
       "      <td>47</td>\n",
       "      <td>69.5</td>\n",
       "      <td>67.1</td>\n",
       "      <td>67.9</td>\n",
       "      <td>68.5</td>\n",
       "      <td>78.33</td>\n",
       "      <td>68.24</td>\n",
       "      <td>Medium</td>\n",
       "    </tr>\n",
       "  </tbody>\n",
       "</table>\n",
       "<p>5 rows × 26 columns</p>\n",
       "</div>"
      ],
      "text/plain": [
       "  student_id  age  gender socioeconomic_status region  total_logins  \\\n",
       "0      S1861   19    Male                 High   West            59   \n",
       "1      S0354   24  Female               Medium  South            19   \n",
       "2      S1334   23    Male               Medium  North            44   \n",
       "3      S0906   23  Female               Medium   East            43   \n",
       "4      S1290   17    Male                 High  North            28   \n",
       "\n",
       "   weekly_login_count  avg_session_duration  resource_click_count  \\\n",
       "0                   6             66.079121                  22.0   \n",
       "1                   9             52.658783                  50.0   \n",
       "2                   2             45.854387                  10.0   \n",
       "3                   4             48.918866                  76.0   \n",
       "4                   2             59.170770                  31.0   \n",
       "\n",
       "   forum_posts  ...  tab_switch_count  total_classes  classes_attended  \\\n",
       "0            2  ...                12             60                55   \n",
       "1            2  ...                 2             60                41   \n",
       "2            2  ...                 4             60                48   \n",
       "3            0  ...                 4             60                52   \n",
       "4            3  ...                 4             60                47   \n",
       "\n",
       "   assignment_score_avg  quiz_score_avg midterm_exam_score  final_exam_score  \\\n",
       "0                  88.9           100.0               93.2              91.9   \n",
       "1                  50.4            36.6               57.3              39.5   \n",
       "2                  77.6            74.2               66.8              71.5   \n",
       "3                  76.8            63.7               74.7              70.0   \n",
       "4                  69.5            67.1               67.9              68.5   \n",
       "\n",
       "   attendance_percentage  overall_performance_score  performance_label  \n",
       "0                  91.67                      93.31               High  \n",
       "1                  68.33                      46.44                Low  \n",
       "2                  80.00                      71.85               High  \n",
       "3                  86.67                      71.51             Medium  \n",
       "4                  78.33                      68.24             Medium  \n",
       "\n",
       "[5 rows x 26 columns]"
      ]
     },
     "execution_count": 1,
     "metadata": {},
     "output_type": "execute_result"
    }
   ],
   "source": [
    "import pandas as pd\n",
    "\n",
    "df = pd.read_csv(\"vocational_student_behavioral_dataset_V4.csv\")\n",
    "\n",
    "df.head()"
   ]
  },
  {
   "cell_type": "code",
   "execution_count": 2,
   "metadata": {},
   "outputs": [
    {
     "data": {
      "text/plain": [
       "student_id                      0\n",
       "age                             0\n",
       "gender                          0\n",
       "socioeconomic_status            0\n",
       "region                          0\n",
       "total_logins                    0\n",
       "weekly_login_count              0\n",
       "avg_session_duration           60\n",
       "resource_click_count           60\n",
       "forum_posts                     0\n",
       "quiz_attempts_count             0\n",
       "video_watch_completion_rate     0\n",
       "daily_internet_usage_mins      60\n",
       "edu_sites_visit_count           0\n",
       "nonedu_sites_visit_count        0\n",
       "peak_usage_time                 0\n",
       "tab_switch_count                0\n",
       "total_classes                   0\n",
       "classes_attended                0\n",
       "assignment_score_avg            0\n",
       "quiz_score_avg                 60\n",
       "midterm_exam_score              0\n",
       "final_exam_score                0\n",
       "attendance_percentage           0\n",
       "overall_performance_score       0\n",
       "performance_label               0\n",
       "dtype: int64"
      ]
     },
     "execution_count": 2,
     "metadata": {},
     "output_type": "execute_result"
    }
   ],
   "source": [
    "df.isnull().sum()"
   ]
  },
  {
   "cell_type": "code",
   "execution_count": null,
   "id": "f5aa9ece",
   "metadata": {},
   "outputs": [],
   "source": []
  },
  {
   "cell_type": "code",
   "execution_count": 3,
   "id": "a7db6f32",
   "metadata": {},
   "outputs": [
    {
     "name": "stdout",
     "output_type": "stream",
     "text": [
      "Index(['student_id', 'age', 'gender', 'socioeconomic_status', 'region',\n",
      "       'total_logins', 'weekly_login_count', 'avg_session_duration',\n",
      "       'resource_click_count', 'forum_posts', 'quiz_attempts_count',\n",
      "       'video_watch_completion_rate', 'daily_internet_usage_mins',\n",
      "       'edu_sites_visit_count', 'nonedu_sites_visit_count', 'peak_usage_time',\n",
      "       'tab_switch_count', 'total_classes', 'classes_attended',\n",
      "       'assignment_score_avg', 'quiz_score_avg', 'midterm_exam_score',\n",
      "       'final_exam_score', 'attendance_percentage',\n",
      "       'overall_performance_score'],\n",
      "      dtype='object')\n"
     ]
    }
   ],
   "source": [
    "X = df.drop(columns=[\"performance_label\"])\n",
    "y = df[[\"performance_label\"]]\n",
    "\n",
    "print(X.columns)"
   ]
  },
  {
   "cell_type": "code",
   "execution_count": 4,
   "id": "da50a1eb",
   "metadata": {},
   "outputs": [
    {
     "name": "stdout",
     "output_type": "stream",
     "text": [
      "Index(['performance_label'], dtype='object')\n"
     ]
    }
   ],
   "source": [
    "print(y.columns)"
   ]
  },
  {
   "cell_type": "code",
   "execution_count": null,
   "id": "cbc8f4af",
   "metadata": {},
   "outputs": [],
   "source": []
  },
  {
   "cell_type": "code",
   "execution_count": 5,
   "id": "58344096",
   "metadata": {},
   "outputs": [
    {
     "name": "stdout",
     "output_type": "stream",
     "text": [
      "missing values in train data:  0\n",
      "missing values in test data:  60\n"
     ]
    }
   ],
   "source": [
    "from sklearn.model_selection import train_test_split\n",
    "\n",
    "X_train, X_test, y_train, y_test = train_test_split(X, y, test_size=0.30, random_state=42)\n",
    "\n",
    "print(\"missing values in train data: \", X_train[\"avg_session_duration\"].isnull().sum())\n",
    "print(\"missing values in test data: \", X_test[\"avg_session_duration\"].isnull().sum())"
   ]
  },
  {
   "cell_type": "code",
   "execution_count": 6,
   "metadata": {},
   "outputs": [
    {
     "name": "stdout",
     "output_type": "stream",
     "text": [
      "missing values in train data:  0\n",
      "missing values in test data:  0\n"
     ]
    }
   ],
   "source": [
    "from sklearn.impute import SimpleImputer                            # Mean imputer\n",
    "\n",
    "mean_imputer = SimpleImputer(strategy=\"mean\")\n",
    "X_train[\"avg_session_duration\"] = mean_imputer.fit_transform(X_train[[\"avg_session_duration\"]])\n",
    "X_test[\"avg_session_duration\"] = mean_imputer.transform(X_test[[\"avg_session_duration\"]])\n",
    "\n",
    "print(\"missing values in train data: \", X_train[\"avg_session_duration\"].isnull().sum())\n",
    "print(\"missing values in test data: \", X_train[\"avg_session_duration\"].isnull().sum())"
   ]
  },
  {
   "cell_type": "code",
   "execution_count": null,
   "id": "d16a832c",
   "metadata": {},
   "outputs": [],
   "source": []
  },
  {
   "cell_type": "code",
   "execution_count": null,
   "id": "b096cc05",
   "metadata": {},
   "outputs": [],
   "source": []
  },
  {
   "cell_type": "code",
   "execution_count": 7,
   "id": "aaedb0c0",
   "metadata": {},
   "outputs": [
    {
     "name": "stdout",
     "output_type": "stream",
     "text": [
      "missing values in train data:  0\n",
      "missing values in test data:  60\n"
     ]
    }
   ],
   "source": [
    "print(\"missing values in train data: \", X_train[\"quiz_score_avg\"].isnull().sum())\n",
    "\n",
    "print(\"missing values in test data: \", X_test[\"quiz_score_avg\"].isnull().sum())"
   ]
  },
  {
   "cell_type": "code",
   "execution_count": 8,
   "id": "8dfad7fa",
   "metadata": {},
   "outputs": [
    {
     "name": "stdout",
     "output_type": "stream",
     "text": [
      "missing values in train data:  0\n",
      "missing values in test data:  0\n"
     ]
    }
   ],
   "source": [
    "from sklearn.impute import SimpleImputer                            # Median imputer\n",
    "\n",
    "median_imputer = SimpleImputer(strategy=\"median\")                  \n",
    "X_train[\"quiz_score_avg\"] = median_imputer.fit_transform(X_train[[\"quiz_score_avg\"]])\n",
    "X_test[\"quiz_score_avg\"] = median_imputer.transform(X_test[[\"quiz_score_avg\"]])\n",
    "\n",
    "print(\"missing values in train data: \", X_train[\"quiz_score_avg\"].isnull().sum())\n",
    "print(\"missing values in test data: \", X_test[\"quiz_score_avg\"].isnull().sum())"
   ]
  },
  {
   "cell_type": "code",
   "execution_count": null,
   "metadata": {},
   "outputs": [],
   "source": []
  },
  {
   "cell_type": "code",
   "execution_count": null,
   "id": "4f821eb0",
   "metadata": {},
   "outputs": [],
   "source": []
  },
  {
   "cell_type": "code",
   "execution_count": 9,
   "metadata": {},
   "outputs": [
    {
     "name": "stdout",
     "output_type": "stream",
     "text": [
      "missing values in train data:  0\n",
      "missing values in test data:  60\n"
     ]
    }
   ],
   "source": [
    "print(\"missing values in train data: \", X_train[\"resource_click_count\"].isnull().sum())\n",
    "print(\"missing values in test data: \",X_test[\"resource_click_count\"].isnull().sum())"
   ]
  },
  {
   "cell_type": "code",
   "execution_count": 10,
   "id": "bed933c4",
   "metadata": {},
   "outputs": [
    {
     "name": "stdout",
     "output_type": "stream",
     "text": [
      "missing values in train data:  0\n",
      "missing values in test data:  0\n"
     ]
    }
   ],
   "source": [
    "def compute_end_of_distribution_value(series):                                         # End of distribution imputation\n",
    "    return series.mean() + 3 * series.std()\n",
    "\n",
    "fill_val = compute_end_of_distribution_value(X_train[\"resource_click_count\"])          # compute fill value from train\n",
    "\n",
    "X_train[\"resource_click_count\"] = X_train[\"resource_click_count\"].fillna(fill_val)     # apply to both train and test\n",
    "X_test[\"resource_click_count\"] = X_test[\"resource_click_count\"].fillna(fill_val)\n",
    "\n",
    "print(\"missing values in train data: \", X_train[\"resource_click_count\"].isnull().sum())\n",
    "print(\"missing values in test data: \", X_test[\"resource_click_count\"].isnull().sum())\n"
   ]
  },
  {
   "cell_type": "code",
   "execution_count": null,
   "metadata": {},
   "outputs": [],
   "source": []
  },
  {
   "cell_type": "code",
   "execution_count": null,
   "id": "c680243e",
   "metadata": {},
   "outputs": [],
   "source": []
  },
  {
   "cell_type": "code",
   "execution_count": null,
   "id": "4afb8fb8",
   "metadata": {},
   "outputs": [],
   "source": []
  },
  {
   "cell_type": "markdown",
   "id": "17b5c609",
   "metadata": {},
   "source": []
  },
  {
   "cell_type": "markdown",
   "metadata": {},
   "source": []
  },
  {
   "cell_type": "markdown",
   "id": "e4b5d762",
   "metadata": {},
   "source": []
  },
  {
   "cell_type": "markdown",
   "metadata": {},
   "source": []
  },
  {
   "cell_type": "markdown",
   "id": "f6c284cb",
   "metadata": {},
   "source": []
  },
  {
   "cell_type": "markdown",
   "id": "da79b384",
   "metadata": {},
   "source": []
  },
  {
   "cell_type": "markdown",
   "id": "5865dd99",
   "metadata": {},
   "source": []
  },
  {
   "cell_type": "code",
   "execution_count": 11,
   "metadata": {},
   "outputs": [
    {
     "data": {
      "text/html": [
       "<div>\n",
       "<style scoped>\n",
       "    .dataframe tbody tr th:only-of-type {\n",
       "        vertical-align: middle;\n",
       "    }\n",
       "\n",
       "    .dataframe tbody tr th {\n",
       "        vertical-align: top;\n",
       "    }\n",
       "\n",
       "    .dataframe thead th {\n",
       "        text-align: right;\n",
       "    }\n",
       "</style>\n",
       "<table border=\"1\" class=\"dataframe\">\n",
       "  <thead>\n",
       "    <tr style=\"text-align: right;\">\n",
       "      <th></th>\n",
       "      <th>Date</th>\n",
       "      <th>Time</th>\n",
       "      <th>Booking ID</th>\n",
       "      <th>Booking Status</th>\n",
       "      <th>Customer ID</th>\n",
       "      <th>Vehicle Type</th>\n",
       "      <th>Pickup Location</th>\n",
       "      <th>Drop Location</th>\n",
       "      <th>Avg VTAT</th>\n",
       "      <th>Avg CTAT</th>\n",
       "      <th>...</th>\n",
       "      <th>Reason for cancelling by Customer</th>\n",
       "      <th>Cancelled Rides by Driver</th>\n",
       "      <th>Driver Cancellation Reason</th>\n",
       "      <th>Incomplete Rides</th>\n",
       "      <th>Incomplete Rides Reason</th>\n",
       "      <th>Booking Value</th>\n",
       "      <th>Ride Distance</th>\n",
       "      <th>Driver Ratings</th>\n",
       "      <th>Customer Rating</th>\n",
       "      <th>Payment Method</th>\n",
       "    </tr>\n",
       "  </thead>\n",
       "  <tbody>\n",
       "    <tr>\n",
       "      <th>0</th>\n",
       "      <td>2024-03-23</td>\n",
       "      <td>12:29:38</td>\n",
       "      <td>\"CNR5884300\"</td>\n",
       "      <td>No Driver Found</td>\n",
       "      <td>\"CID1982111\"</td>\n",
       "      <td>eBike</td>\n",
       "      <td>Palam Vihar</td>\n",
       "      <td>Jhilmil</td>\n",
       "      <td>NaN</td>\n",
       "      <td>NaN</td>\n",
       "      <td>...</td>\n",
       "      <td>NaN</td>\n",
       "      <td>NaN</td>\n",
       "      <td>NaN</td>\n",
       "      <td>NaN</td>\n",
       "      <td>NaN</td>\n",
       "      <td>NaN</td>\n",
       "      <td>NaN</td>\n",
       "      <td>NaN</td>\n",
       "      <td>NaN</td>\n",
       "      <td>NaN</td>\n",
       "    </tr>\n",
       "    <tr>\n",
       "      <th>1</th>\n",
       "      <td>2024-11-29</td>\n",
       "      <td>18:01:39</td>\n",
       "      <td>\"CNR1326809\"</td>\n",
       "      <td>Incomplete</td>\n",
       "      <td>\"CID4604802\"</td>\n",
       "      <td>Go Sedan</td>\n",
       "      <td>Shastri Nagar</td>\n",
       "      <td>Gurgaon Sector 56</td>\n",
       "      <td>4.9</td>\n",
       "      <td>14.0</td>\n",
       "      <td>...</td>\n",
       "      <td>NaN</td>\n",
       "      <td>NaN</td>\n",
       "      <td>NaN</td>\n",
       "      <td>1.0</td>\n",
       "      <td>Vehicle Breakdown</td>\n",
       "      <td>237.0</td>\n",
       "      <td>5.73</td>\n",
       "      <td>NaN</td>\n",
       "      <td>NaN</td>\n",
       "      <td>UPI</td>\n",
       "    </tr>\n",
       "    <tr>\n",
       "      <th>2</th>\n",
       "      <td>2024-08-23</td>\n",
       "      <td>08:56:10</td>\n",
       "      <td>\"CNR8494506\"</td>\n",
       "      <td>Completed</td>\n",
       "      <td>\"CID9202816\"</td>\n",
       "      <td>Auto</td>\n",
       "      <td>Khandsa</td>\n",
       "      <td>Malviya Nagar</td>\n",
       "      <td>13.4</td>\n",
       "      <td>25.8</td>\n",
       "      <td>...</td>\n",
       "      <td>NaN</td>\n",
       "      <td>NaN</td>\n",
       "      <td>NaN</td>\n",
       "      <td>NaN</td>\n",
       "      <td>NaN</td>\n",
       "      <td>627.0</td>\n",
       "      <td>13.58</td>\n",
       "      <td>4.9</td>\n",
       "      <td>4.9</td>\n",
       "      <td>Debit Card</td>\n",
       "    </tr>\n",
       "    <tr>\n",
       "      <th>3</th>\n",
       "      <td>2024-10-21</td>\n",
       "      <td>17:17:25</td>\n",
       "      <td>\"CNR8906825\"</td>\n",
       "      <td>Completed</td>\n",
       "      <td>\"CID2610914\"</td>\n",
       "      <td>Premier Sedan</td>\n",
       "      <td>Central Secretariat</td>\n",
       "      <td>Inderlok</td>\n",
       "      <td>13.1</td>\n",
       "      <td>28.5</td>\n",
       "      <td>...</td>\n",
       "      <td>NaN</td>\n",
       "      <td>NaN</td>\n",
       "      <td>NaN</td>\n",
       "      <td>NaN</td>\n",
       "      <td>NaN</td>\n",
       "      <td>416.0</td>\n",
       "      <td>34.02</td>\n",
       "      <td>4.6</td>\n",
       "      <td>5.0</td>\n",
       "      <td>UPI</td>\n",
       "    </tr>\n",
       "    <tr>\n",
       "      <th>4</th>\n",
       "      <td>2024-09-16</td>\n",
       "      <td>22:08:00</td>\n",
       "      <td>\"CNR1950162\"</td>\n",
       "      <td>Completed</td>\n",
       "      <td>\"CID9933542\"</td>\n",
       "      <td>Bike</td>\n",
       "      <td>Ghitorni Village</td>\n",
       "      <td>Khan Market</td>\n",
       "      <td>5.3</td>\n",
       "      <td>19.6</td>\n",
       "      <td>...</td>\n",
       "      <td>NaN</td>\n",
       "      <td>NaN</td>\n",
       "      <td>NaN</td>\n",
       "      <td>NaN</td>\n",
       "      <td>NaN</td>\n",
       "      <td>737.0</td>\n",
       "      <td>48.21</td>\n",
       "      <td>4.1</td>\n",
       "      <td>4.3</td>\n",
       "      <td>UPI</td>\n",
       "    </tr>\n",
       "  </tbody>\n",
       "</table>\n",
       "<p>5 rows × 21 columns</p>\n",
       "</div>"
      ],
      "text/plain": [
       "         Date      Time    Booking ID   Booking Status   Customer ID  \\\n",
       "0  2024-03-23  12:29:38  \"CNR5884300\"  No Driver Found  \"CID1982111\"   \n",
       "1  2024-11-29  18:01:39  \"CNR1326809\"       Incomplete  \"CID4604802\"   \n",
       "2  2024-08-23  08:56:10  \"CNR8494506\"        Completed  \"CID9202816\"   \n",
       "3  2024-10-21  17:17:25  \"CNR8906825\"        Completed  \"CID2610914\"   \n",
       "4  2024-09-16  22:08:00  \"CNR1950162\"        Completed  \"CID9933542\"   \n",
       "\n",
       "    Vehicle Type      Pickup Location      Drop Location  Avg VTAT  Avg CTAT  \\\n",
       "0          eBike          Palam Vihar            Jhilmil       NaN       NaN   \n",
       "1       Go Sedan        Shastri Nagar  Gurgaon Sector 56       4.9      14.0   \n",
       "2           Auto              Khandsa      Malviya Nagar      13.4      25.8   \n",
       "3  Premier Sedan  Central Secretariat           Inderlok      13.1      28.5   \n",
       "4           Bike     Ghitorni Village        Khan Market       5.3      19.6   \n",
       "\n",
       "   ...  Reason for cancelling by Customer Cancelled Rides by Driver  \\\n",
       "0  ...                                NaN                       NaN   \n",
       "1  ...                                NaN                       NaN   \n",
       "2  ...                                NaN                       NaN   \n",
       "3  ...                                NaN                       NaN   \n",
       "4  ...                                NaN                       NaN   \n",
       "\n",
       "   Driver Cancellation Reason Incomplete Rides  Incomplete Rides Reason  \\\n",
       "0                         NaN              NaN                      NaN   \n",
       "1                         NaN              1.0        Vehicle Breakdown   \n",
       "2                         NaN              NaN                      NaN   \n",
       "3                         NaN              NaN                      NaN   \n",
       "4                         NaN              NaN                      NaN   \n",
       "\n",
       "  Booking Value  Ride Distance  Driver Ratings  Customer Rating  \\\n",
       "0           NaN            NaN             NaN              NaN   \n",
       "1         237.0           5.73             NaN              NaN   \n",
       "2         627.0          13.58             4.9              4.9   \n",
       "3         416.0          34.02             4.6              5.0   \n",
       "4         737.0          48.21             4.1              4.3   \n",
       "\n",
       "   Payment Method  \n",
       "0             NaN  \n",
       "1             UPI  \n",
       "2      Debit Card  \n",
       "3             UPI  \n",
       "4             UPI  \n",
       "\n",
       "[5 rows x 21 columns]"
      ]
     },
     "execution_count": 11,
     "metadata": {},
     "output_type": "execute_result"
    }
   ],
   "source": [
    "data = pd.read_csv(\"ncr_ride_bookings.csv\")\n",
    "\n",
    "data.head()"
   ]
  },
  {
   "cell_type": "code",
   "execution_count": 12,
   "id": "b7a6ff78",
   "metadata": {},
   "outputs": [
    {
     "data": {
      "text/plain": [
       "3150000"
      ]
     },
     "execution_count": 12,
     "metadata": {},
     "output_type": "execute_result"
    }
   ],
   "source": [
    "data.size"
   ]
  },
  {
   "cell_type": "code",
   "execution_count": 13,
   "metadata": {},
   "outputs": [
    {
     "data": {
      "text/plain": [
       "(150000, 21)"
      ]
     },
     "execution_count": 13,
     "metadata": {},
     "output_type": "execute_result"
    }
   ],
   "source": [
    "data.shape"
   ]
  },
  {
   "cell_type": "code",
   "execution_count": 14,
   "id": "5862cb75",
   "metadata": {},
   "outputs": [
    {
     "data": {
      "text/plain": [
       "(15000, 21)"
      ]
     },
     "execution_count": 14,
     "metadata": {},
     "output_type": "execute_result"
    }
   ],
   "source": [
    "data = data.sample(n=15000, random_state=42)   # random but reproducible\n",
    "\n",
    "data.shape"
   ]
  },
  {
   "cell_type": "code",
   "execution_count": 15,
   "id": "9e35f897",
   "metadata": {},
   "outputs": [
    {
     "name": "stdout",
     "output_type": "stream",
     "text": [
      "<class 'pandas.core.frame.DataFrame'>\n",
      "Index: 15000 entries, 59770 to 109880\n",
      "Data columns (total 21 columns):\n",
      " #   Column                             Non-Null Count  Dtype  \n",
      "---  ------                             --------------  -----  \n",
      " 0   Date                               15000 non-null  object \n",
      " 1   Time                               15000 non-null  object \n",
      " 2   Booking ID                         15000 non-null  object \n",
      " 3   Booking Status                     15000 non-null  object \n",
      " 4   Customer ID                        15000 non-null  object \n",
      " 5   Vehicle Type                       15000 non-null  object \n",
      " 6   Pickup Location                    15000 non-null  object \n",
      " 7   Drop Location                      15000 non-null  object \n",
      " 8   Avg VTAT                           13951 non-null  float64\n",
      " 9   Avg CTAT                           10164 non-null  float64\n",
      " 10  Cancelled Rides by Customer        1056 non-null   float64\n",
      " 11  Reason for cancelling by Customer  1056 non-null   object \n",
      " 12  Cancelled Rides by Driver          2731 non-null   float64\n",
      " 13  Driver Cancellation Reason         2731 non-null   object \n",
      " 14  Incomplete Rides                   869 non-null    float64\n",
      " 15  Incomplete Rides Reason            869 non-null    object \n",
      " 16  Booking Value                      10164 non-null  float64\n",
      " 17  Ride Distance                      10164 non-null  float64\n",
      " 18  Driver Ratings                     9295 non-null   float64\n",
      " 19  Customer Rating                    9295 non-null   float64\n",
      " 20  Payment Method                     10164 non-null  object \n",
      "dtypes: float64(9), object(12)\n",
      "memory usage: 2.5+ MB\n"
     ]
    }
   ],
   "source": [
    "data.info()"
   ]
  },
  {
   "cell_type": "code",
   "execution_count": 16,
   "metadata": {},
   "outputs": [
    {
     "data": {
      "text/plain": [
       "Date                                     0\n",
       "Time                                     0\n",
       "Booking ID                               0\n",
       "Booking Status                           0\n",
       "Customer ID                              0\n",
       "Vehicle Type                             0\n",
       "Pickup Location                          0\n",
       "Drop Location                            0\n",
       "Avg VTAT                              1049\n",
       "Avg CTAT                              4836\n",
       "Cancelled Rides by Customer          13944\n",
       "Reason for cancelling by Customer    13944\n",
       "Cancelled Rides by Driver            12269\n",
       "Driver Cancellation Reason           12269\n",
       "Incomplete Rides                     14131\n",
       "Incomplete Rides Reason              14131\n",
       "Booking Value                         4836\n",
       "Ride Distance                         4836\n",
       "Driver Ratings                        5705\n",
       "Customer Rating                       5705\n",
       "Payment Method                        4836\n",
       "dtype: int64"
      ]
     },
     "execution_count": 16,
     "metadata": {},
     "output_type": "execute_result"
    }
   ],
   "source": [
    "data.isnull().sum()"
   ]
  },
  {
   "cell_type": "code",
   "execution_count": 17,
   "id": "0cbfb1c3",
   "metadata": {},
   "outputs": [],
   "source": [
    "X = data.drop(columns=[\"Booking Status\"])\n",
    "y = data[[\"Booking Status\"]]"
   ]
  },
  {
   "cell_type": "code",
   "execution_count": 18,
   "id": "18899df3",
   "metadata": {},
   "outputs": [
    {
     "name": "stdout",
     "output_type": "stream",
     "text": [
      "missing values in train data:  3853\n",
      "missing values in test data:  983\n"
     ]
    }
   ],
   "source": [
    "from sklearn.model_selection import train_test_split\n",
    "\n",
    "X_train, X_test, y_train, y_test = train_test_split(X, y, test_size=0.2, random_state=42)\n",
    "\n",
    "print(\"missing values in train data: \", X_train['Payment Method'].isnull().sum())\n",
    "print(\"missing values in test data: \", X_test['Payment Method'].isnull().sum())"
   ]
  },
  {
   "cell_type": "code",
   "execution_count": 19,
   "id": "e836c5ea",
   "metadata": {},
   "outputs": [
    {
     "name": "stdout",
     "output_type": "stream",
     "text": [
      "missing values in train data:  0\n",
      "missing values in test data:  0\n"
     ]
    }
   ],
   "source": [
    "mode_value = X_train['Payment Method'].mode()[0]                    # Mode Imputation\n",
    "\n",
    "X_train['Payment Method'] = X_train['Payment Method'].fillna(mode_value)\n",
    "X_test['Payment Method'] = X_test['Payment Method'].fillna(mode_value)\n",
    "\n",
    "print(\"missing values in train data: \", X_train['Payment Method'].isnull().sum())\n",
    "print(\"missing values in test data: \", X_test['Payment Method'].isnull().sum())"
   ]
  },
  {
   "cell_type": "code",
   "execution_count": null,
   "id": "3fa93cb6",
   "metadata": {},
   "outputs": [],
   "source": []
  },
  {
   "cell_type": "code",
   "execution_count": null,
   "id": "83e4e43f",
   "metadata": {},
   "outputs": [],
   "source": []
  },
  {
   "cell_type": "code",
   "execution_count": null,
   "id": "05769fdf",
   "metadata": {},
   "outputs": [],
   "source": []
  },
  {
   "cell_type": "code",
   "execution_count": 20,
   "id": "8abb2d6a",
   "metadata": {},
   "outputs": [
    {
     "name": "stdout",
     "output_type": "stream",
     "text": [
      "missing values in train data:  9811\n",
      "missing values in test data:  2458\n"
     ]
    }
   ],
   "source": [
    "print(\"missing values in train data: \", X_train['Driver Cancellation Reason'].isnull().sum())\n",
    "print(\"missing values in test data: \", X_test['Driver Cancellation Reason'].isnull().sum())"
   ]
  },
  {
   "cell_type": "code",
   "execution_count": 21,
   "id": "45c2e345",
   "metadata": {},
   "outputs": [
    {
     "name": "stdout",
     "output_type": "stream",
     "text": [
      "missing values in train data:  0\n",
      "missing values in test data:  0\n"
     ]
    }
   ],
   "source": [
    "X_train['Driver Cancellation Reason'] = X_train['Driver Cancellation Reason'].fillna(\"Missing\")   # fill with missing\n",
    "X_test['Driver Cancellation Reason'] = X_test['Driver Cancellation Reason'].fillna(\"Missing\")\n",
    "\n",
    "print(\"missing values in train data: \", X_train['Driver Cancellation Reason'].isnull().sum())\n",
    "print(\"missing values in test data: \", X_test['Driver Cancellation Reason'].isnull().sum())"
   ]
  },
  {
   "cell_type": "code",
   "execution_count": null,
   "id": "aaca8bec",
   "metadata": {},
   "outputs": [],
   "source": []
  },
  {
   "cell_type": "code",
   "execution_count": null,
   "id": "320a6a40",
   "metadata": {},
   "outputs": [],
   "source": []
  },
  {
   "cell_type": "code",
   "execution_count": 22,
   "id": "3ba8d56e",
   "metadata": {},
   "outputs": [
    {
     "name": "stdout",
     "output_type": "stream",
     "text": [
      "missing values in train data:  4552\n",
      "missing values in test data:  1153\n"
     ]
    }
   ],
   "source": [
    "print(\"missing values in train data: \", X_train[\"Customer Rating\"].isnull().sum())\n",
    "print(\"missing values in test data: \", X_test[\"Customer Rating\"].isnull().sum())"
   ]
  },
  {
   "cell_type": "code",
   "execution_count": 23,
   "id": "10bf6192",
   "metadata": {},
   "outputs": [
    {
     "name": "stdout",
     "output_type": "stream",
     "text": [
      "missing values in train data:  0\n",
      "missing values in test data:  0\n"
     ]
    }
   ],
   "source": [
    "from sklearn.impute import KNNImputer                          # KNN-Imputer\n",
    "knn_imputer = KNNImputer(n_neighbors=5)\n",
    "\n",
    "X_train[\"Customer Rating\"] = knn_imputer.fit_transform(X_train[[\"Customer Rating\"]])\n",
    "X_test[\"Customer Rating\"] = knn_imputer.transform(X_test[[\"Customer Rating\"]])\n",
    "\n",
    "print(\"missing values in train data: \", X_train[\"Customer Rating\"].isnull().sum())\n",
    "print(\"missing values in test data: \", X_test[\"Customer Rating\"].isnull().sum())"
   ]
  },
  {
   "cell_type": "code",
   "execution_count": null,
   "id": "a0ab37ca",
   "metadata": {},
   "outputs": [],
   "source": []
  },
  {
   "cell_type": "code",
   "execution_count": null,
   "id": "00b0706d",
   "metadata": {},
   "outputs": [],
   "source": []
  },
  {
   "cell_type": "code",
   "execution_count": null,
   "id": "0b20de1c",
   "metadata": {},
   "outputs": [],
   "source": []
  },
  {
   "cell_type": "code",
   "execution_count": 24,
   "id": "e81ed4b3",
   "metadata": {},
   "outputs": [
    {
     "name": "stdout",
     "output_type": "stream",
     "text": [
      "missing values in train data:  3853\n",
      "missing values in test data:  983\n"
     ]
    }
   ],
   "source": [
    "print(\"missing values in train data: \", X_train[\"Avg CTAT\"].isnull().sum())\n",
    "print(\"missing values in test data: \", X_test[\"Avg CTAT\"].isnull().sum())"
   ]
  },
  {
   "cell_type": "code",
   "execution_count": 25,
   "id": "2f243c5e",
   "metadata": {},
   "outputs": [
    {
     "name": "stdout",
     "output_type": "stream",
     "text": [
      "missing values in train data:  0\n",
      "missing values in test data:  0\n"
     ]
    }
   ],
   "source": [
    "from sklearn.experimental import enable_iterative_imputer               # Iterative Imputer\n",
    "from sklearn.impute import IterativeImputer\n",
    "iter_imputer = IterativeImputer(max_iter=10, random_state=42)\n",
    "\n",
    "X_train[\"Avg CTAT\"] = iter_imputer.fit_transform(X_train[[\"Avg CTAT\"]])\n",
    "X_test[\"Avg CTAT\"] = iter_imputer.transform(X_test[[\"Avg CTAT\"]])\n",
    "\n",
    "print(\"missing values in train data: \", X_train[\"Avg CTAT\"].isnull().sum())\n",
    "print(\"missing values in test data: \", X_test[\"Avg CTAT\"].isnull().sum())"
   ]
  },
  {
   "cell_type": "code",
   "execution_count": null,
   "id": "2ca11c20",
   "metadata": {},
   "outputs": [],
   "source": []
  },
  {
   "cell_type": "code",
   "execution_count": null,
   "id": "87cb54d2",
   "metadata": {},
   "outputs": [],
   "source": []
  },
  {
   "cell_type": "code",
   "execution_count": null,
   "id": "aac210a4",
   "metadata": {},
   "outputs": [],
   "source": []
  },
  {
   "cell_type": "code",
   "execution_count": null,
   "id": "5537c97b",
   "metadata": {},
   "outputs": [],
   "source": []
  },
  {
   "cell_type": "code",
   "execution_count": null,
   "id": "6a204d88",
   "metadata": {},
   "outputs": [],
   "source": []
  }
 ],
 "metadata": {
  "kernelspec": {
   "display_name": "pythonpractice",
   "language": "python",
   "name": "python3"
  },
  "language_info": {
   "codemirror_mode": {
    "name": "ipython",
    "version": 3
   },
   "file_extension": ".py",
   "mimetype": "text/x-python",
   "name": "python",
   "nbconvert_exporter": "python",
   "pygments_lexer": "ipython3",
   "version": "3.10.18"
  }
 },
 "nbformat": 4,
 "nbformat_minor": 5
}
